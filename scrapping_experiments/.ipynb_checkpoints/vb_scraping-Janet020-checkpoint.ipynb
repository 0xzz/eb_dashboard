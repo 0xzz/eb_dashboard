{
 "cells": [
  {
   "cell_type": "code",
   "execution_count": 1,
   "metadata": {},
   "outputs": [],
   "source": [
    "import requests\n",
    "from bs4 import BeautifulSoup\n",
    "import datetime\n",
    "import matplotlib.pyplot as plt\n",
    "import matplotlib.dates as mdates\n",
    "\n",
    "import json\n",
    "import pickle"
   ]
  },
  {
   "cell_type": "code",
   "execution_count": 2,
   "metadata": {},
   "outputs": [],
   "source": [
    "years = mdates.YearLocator()   # every year\n",
    "months = mdates.MonthLocator()  # every month\n",
    "years_fmt = mdates.DateFormatter('%Y')"
   ]
  },
  {
   "cell_type": "code",
   "execution_count": 3,
   "metadata": {},
   "outputs": [],
   "source": [
    "def get_soup(url):\n",
    "    page = requests.get(url)\n",
    "    soup = BeautifulSoup(page.text, 'html.parser')\n",
    "    return page.status_code, soup\n",
    "\n",
    "def get_date(soup, d, table_id=2, country_id=1, eb_id=1):\n",
    "    tables = []\n",
    "    for tb in soup.find_all('table'):\n",
    "        rows = tb.find_all('tr')\n",
    "        if len(rows)>3:\n",
    "            data = []\n",
    "            for row in rows:\n",
    "                cols = row.find_all('td')\n",
    "                cols = [ele.text.strip() for ele in cols]\n",
    "                data.append([ele for ele in cols if ele])\n",
    "            tables.append(data)\n",
    "    \n",
    "    wanted_table = tables[table_id]\n",
    "    \n",
    "    res = tables[table_id][eb_id][country_id+1]\n",
    "    \n",
    "    if res=='C':\n",
    "        res_d = d\n",
    "    elif res=='U':\n",
    "        res_d = datetime.date(1900,1,1)\n",
    "    else:\n",
    "        DD = int(res[:2])\n",
    "        MON = res[2:5]\n",
    "        YYYY = 2000+int(res[-2:])\n",
    "        if YYYY>2020:\n",
    "            YYYY-=1000\n",
    "        MM = M_abbr.index(MON)+1\n",
    "        res_d = datetime.date(YYYY,MM,DD)\n",
    "    return res_d"
   ]
  },
  {
   "cell_type": "code",
   "execution_count": 4,
   "metadata": {},
   "outputs": [],
   "source": [
    "M=['january','february','march','april','may','june','july','august','september','october','november','december']\n",
    "M_abbr = [a[:3].upper() for a in M]"
   ]
  },
  {
   "cell_type": "code",
   "execution_count": 5,
   "metadata": {},
   "outputs": [],
   "source": [
    "eb_id = 1"
   ]
  },
  {
   "cell_type": "code",
   "execution_count": 6,
   "metadata": {
    "scrolled": false
   },
   "outputs": [
    {
     "name": "stdout",
     "output_type": "stream",
     "text": [
      "2015-10-01   2015-10-01 2015-10-01 2015-10-01\n",
      "2015-11-01   2015-11-01 2015-11-01 2015-11-01\n",
      "2015-12-01   2015-12-01 2015-12-01 2015-12-01\n",
      "2016-01-01   2016-01-01 2016-01-01 2016-01-01\n",
      "2016-02-01   2016-02-01 2016-02-01 2016-02-01\n",
      "2016-03-01   2016-03-01 2016-03-01 2016-03-01\n",
      "2016-04-01   2016-04-01 2016-04-01 2016-04-01\n",
      "2016-05-01   2016-05-01 2016-05-01 2016-05-01\n",
      "2016-06-01   2016-06-01 2016-06-01 2016-06-01\n",
      "2016-07-01   2016-07-01 2016-07-01 2016-07-01\n",
      "2016-08-01   2016-08-01 2010-01-01 2010-01-01\n",
      "2016-09-01   2016-09-01 2010-01-01 2010-01-01\n",
      "2016-10-01   2016-10-01 2016-10-01 2016-10-01\n",
      "2016-11-01   2016-11-01 2016-11-01 2016-11-01\n",
      "2016-12-01   2016-12-01 2016-12-01 2016-12-01\n",
      "2017-01-01   2017-01-01 2017-01-01 2017-01-01\n",
      "2017-02-01   2017-02-01 2017-02-01 2017-02-01\n",
      "2017-03-01   2017-03-01 2017-03-01 2017-03-01\n",
      "2017-04-01   2017-04-01 2017-04-01 2017-04-01\n",
      "2017-05-01   2017-05-01 2017-05-01 2017-05-01\n",
      "2017-06-01   2017-06-01 2012-01-01 2012-01-01\n",
      "2017-07-01   2017-07-01 2012-01-01 2012-01-01\n",
      "2017-08-01   2017-08-01 2012-01-01 2012-01-01\n",
      "2017-09-01   2017-09-01 2012-01-01 2012-01-01\n",
      "2017-10-01   2017-10-01 2017-10-01 2017-10-01\n",
      "2017-11-01   2017-11-01 2017-11-01 2017-11-01\n",
      "2017-12-01   2017-12-01 2017-12-01 2017-12-01\n",
      "2018-01-01   2018-01-01 2018-01-01 2018-01-01\n",
      "2018-02-01   2018-02-01 2018-02-01 2018-02-01\n",
      "2018-03-01   2018-03-01 2018-03-01 2018-03-01\n",
      "2018-04-01   2018-04-01 2012-01-01 2012-01-01\n",
      "2018-05-01   2018-05-01 2012-01-01 2012-01-01\n",
      "2018-06-01   2018-06-01 2012-01-01 2012-01-01\n",
      "2018-07-01   2018-07-01 2012-01-01 2012-01-01\n",
      "2018-08-01   2016-05-01 2012-01-01 2012-01-01\n",
      "2018-09-01   2016-06-01 2012-01-01 2012-01-01\n",
      "2018-10-01   2017-04-01 2016-06-01 2016-06-01\n",
      "2018-11-01   2017-04-01 2016-06-01 2016-06-01\n",
      "2018-12-01   2017-07-01 2016-09-01 2016-09-01\n",
      "2019-01-01   2017-10-01 2016-12-15 2016-12-15\n",
      "2019-02-01   2017-12-01 2017-02-08 2017-02-08\n",
      "2019-03-01   2018-01-01 2017-02-22 2017-02-22\n",
      "2019-04-01   2018-02-01 2017-02-22 2017-02-22\n",
      "2019-05-01   2018-03-01 2017-02-22 2017-02-22\n",
      "2019-06-01   2018-04-22 2017-02-22 2015-01-01\n",
      "2019-07-01   2018-04-22 2017-05-08 2015-01-01\n",
      "2019-08-01   2016-07-01 2016-07-01 2015-01-01\n",
      "2019-09-01   2017-10-01 2014-01-01 1900-01-01\n",
      "2019-10-01   2018-04-22 2016-11-01 2015-01-01\n",
      "2019-11-01   2018-06-01 2017-02-01 2015-01-01\n",
      "2019-12-01   2018-07-15 2017-05-15 2015-01-01\n",
      "2020-01-01   2018-10-01 2017-05-22 2015-01-01\n",
      "2020-02-01   2018-12-01 2017-05-22 2015-01-01\n"
     ]
    }
   ],
   "source": [
    "x1 = []\n",
    "row_days1 = []\n",
    "cn_days1 = []\n",
    "in_days1 = []\n",
    "\n",
    "for yr in [2015, 2016, 2017, 2018, 2019, 2020]:\n",
    "    bd, ed = 0, 12\n",
    "    if yr==2015:\n",
    "        bd=9\n",
    "    if yr==2020:\n",
    "        ed=2\n",
    "    for i in range(bd, 12):\n",
    "        m = M[i]\n",
    "        fy = yr if i<9 else yr+1\n",
    "        url = f'https://travel.state.gov/content/travel/en/legal/visa-law0/visa-bulletin/{fy}/visa-bulletin-for-{m}-{yr}.html'\n",
    "        s, soup = get_soup(url)\n",
    "        if s==404:\n",
    "            url = f'https://travel.state.gov/content/travel/en/legal/visa-law0/visa-bulletin/{fy}/visa-bulletin-{m}-{yr}.html'\n",
    "            s, soup = get_soup(url)            \n",
    "        \n",
    "        d = datetime.date(yr, i+1, 1)\n",
    "\n",
    "        try:\n",
    "            res_ROW   = get_date(soup,d,country_id=0, table_id=2, eb_id=eb_id)\n",
    "            res_CHINA = get_date(soup,d,country_id=1, table_id=2, eb_id=eb_id)\n",
    "            res_INDIA = get_date(soup,d,country_id=3, table_id=2, eb_id=eb_id)\n",
    "        except:\n",
    "            break\n",
    "            \n",
    "        x1.append(d)\n",
    "        row_days1.append(res_ROW)\n",
    "        cn_days1.append(res_CHINA)\n",
    "        in_days1.append(res_INDIA)\n",
    "        \n",
    "        print(d,' ',res_ROW, res_CHINA, res_INDIA)\n",
    "        \n",
    "        "
   ]
  },
  {
   "cell_type": "code",
   "execution_count": 6,
   "metadata": {},
   "outputs": [],
   "source": [
    "x=x1\n",
    "row_days = row_days1\n",
    "cn_days = cn_days1\n",
    "in_days = in_days1"
   ]
  },
  {
   "cell_type": "code",
   "execution_count": 7,
   "metadata": {},
   "outputs": [],
   "source": [
    "eb_fa = {'x':x,\n",
    "          'row':row_days,\n",
    "          'cn':cn_days,\n",
    "          'in':in_days}"
   ]
  },
  {
   "cell_type": "code",
   "execution_count": 8,
   "metadata": {},
   "outputs": [],
   "source": [
    "with open(f'eb{eb_id}_fa_till2020.pk', 'wb') as f:\n",
    "    pickle.dump(eb_fa,f)"
   ]
  },
  {
   "cell_type": "code",
   "execution_count": 30,
   "metadata": {},
   "outputs": [
    {
     "data": {
      "text/plain": [
       "Text(0.5, 1.0, 'China-born EB1 Final Action Date')"
      ]
     },
     "execution_count": 30,
     "metadata": {},
     "output_type": "execute_result"
    },
    {
     "data": {
      "image/png": "[encoded data removed]",
      "text/plain": [
       "<Figure size 1080x576 with 1 Axes>"
      ]
     },
     "metadata": {
      "needs_background": "light"
     },
     "output_type": "display_data"
    }
   ],
   "source": [
    "fig, ax = plt.subplots()\n",
    "fig.set_size_inches(15,8)\n",
    "\n",
    "ax.plot(x,x,':',label='Current Date',linewidth=3)\n",
    "#plt.plot_date(x,row_days,'s-',xdate = True, ydate=True,label='Rest of World')\n",
    "ax.plot(x,cn_days,'o-',label='China-born EB1 Final Action Date',linewidth=3)\n",
    "#plt.plot_date(x,in_days,'.-',xdate = True, ydate=True,label='India')\n",
    "ax.plot([datetime.date(2017,5,1),datetime.date(2020,3,1)],[datetime.date(2017,6,1),datetime.date(2017,6,1)],'--')\n",
    "#plt.plot_date([datetime.date(2019,11,1),datetime.date(2020,2,1)],[datetime.date(2017,2,1),datetime.date(2017,8,1)],':',color='green')\n",
    "#plt.plot_date([datetime.date(2019,11,1),datetime.date(2020,2,1)],[datetime.date(2015,1,1),datetime.date(2015,1,1)],':',color='red')\n",
    "\n",
    "ylim = [datetime.date(2016,1,1),datetime.date(2018,6,1)]\n",
    "xlim = [datetime.date(2016,9,1),datetime.date(2020,2,1)]\n",
    "\n",
    "\n",
    "ax.xaxis.set_major_locator(years)\n",
    "# ax.xaxis.set_major_formatter(years_fmt)\n",
    "ax.set_xlim(xlim)\n",
    "ax.set_ylim(ylim)\n",
    "ax.set_xticks([datetime.date(2016,10,1),datetime.date(2017,2,1),\n",
    "               datetime.date(2017,10,1),datetime.date(2018,2,1),\n",
    "               datetime.date(2018,10,1),datetime.date(2019,2,1),\n",
    "               datetime.date(2019,10,1),datetime.date(2020,2,1)])\n",
    "ax.xaxis.set_minor_locator(months)\n",
    "ax.format_xdata = mdates.DateFormatter('%Y-%m-%d')\n",
    "ax.grid(True)\n",
    "\n",
    "ax.legend(fontsize=14)\n",
    "\n",
    "ax.set_ylabel('Final action date', fontsize=14)\n",
    "\n",
    "fig.autofmt_xdate()\n",
    "\n",
    "ax.set_title(f'China-born EB{eb_id} Final Action Date',fontsize=14)\n"
   ]
  },
  {
   "cell_type": "code",
   "execution_count": 35,
   "metadata": {},
   "outputs": [],
   "source": [
    "with open(f'eb1_fa.pk', 'rb') as f:\n",
    "    eb1_fa = pickle.load(f)\n",
    "with open(f'eb2_fa.pk', 'rb') as f:\n",
    "    eb2_fa = pickle.load(f)\n",
    "with open(f'eb3_fa.pk', 'rb') as f:\n",
    "    eb3_fa = pickle.load(f)    "
   ]
  },
  {
   "cell_type": "code",
   "execution_count": 13,
   "metadata": {},
   "outputs": [
    {
     "ename": "NameError",
     "evalue": "name 'eb1_fa' is not defined",
     "output_type": "error",
     "traceback": [
      "\u001b[1;31m---------------------------------------------------------------------------\u001b[0m",
      "\u001b[1;31mNameError\u001b[0m                                 Traceback (most recent call last)",
      "\u001b[1;32m<ipython-input-13-d2d464c423e5>\u001b[0m in \u001b[0;36m<module>\u001b[1;34m\u001b[0m\n\u001b[0;32m      1\u001b[0m \u001b[0mplt\u001b[0m\u001b[1;33m.\u001b[0m\u001b[0mfigure\u001b[0m\u001b[1;33m(\u001b[0m\u001b[0mfigsize\u001b[0m\u001b[1;33m=\u001b[0m\u001b[1;33m(\u001b[0m\u001b[1;36m12\u001b[0m\u001b[1;33m,\u001b[0m\u001b[1;36m6\u001b[0m\u001b[1;33m)\u001b[0m\u001b[1;33m)\u001b[0m\u001b[1;33m\u001b[0m\u001b[1;33m\u001b[0m\u001b[0m\n\u001b[0;32m      2\u001b[0m \u001b[1;33m\u001b[0m\u001b[0m\n\u001b[1;32m----> 3\u001b[1;33m \u001b[0mplt\u001b[0m\u001b[1;33m.\u001b[0m\u001b[0mplot_date\u001b[0m\u001b[1;33m(\u001b[0m\u001b[0meb1_fa\u001b[0m\u001b[1;33m[\u001b[0m\u001b[1;34m'x'\u001b[0m\u001b[1;33m]\u001b[0m\u001b[1;33m,\u001b[0m\u001b[0meb1_fa\u001b[0m\u001b[1;33m[\u001b[0m\u001b[1;34m'x'\u001b[0m\u001b[1;33m]\u001b[0m\u001b[1;33m,\u001b[0m\u001b[1;34m':'\u001b[0m\u001b[1;33m,\u001b[0m\u001b[0mxdate\u001b[0m \u001b[1;33m=\u001b[0m \u001b[1;32mTrue\u001b[0m\u001b[1;33m,\u001b[0m \u001b[0mydate\u001b[0m\u001b[1;33m=\u001b[0m\u001b[1;32mTrue\u001b[0m\u001b[1;33m,\u001b[0m\u001b[0mlabel\u001b[0m\u001b[1;33m=\u001b[0m\u001b[1;34m'current'\u001b[0m\u001b[1;33m)\u001b[0m\u001b[1;33m\u001b[0m\u001b[1;33m\u001b[0m\u001b[0m\n\u001b[0m\u001b[0;32m      4\u001b[0m \u001b[0mplt\u001b[0m\u001b[1;33m.\u001b[0m\u001b[0mplot_date\u001b[0m\u001b[1;33m(\u001b[0m\u001b[0meb1_fa\u001b[0m\u001b[1;33m[\u001b[0m\u001b[1;34m'x'\u001b[0m\u001b[1;33m]\u001b[0m\u001b[1;33m,\u001b[0m\u001b[0meb1_fa\u001b[0m\u001b[1;33m[\u001b[0m\u001b[1;34m'cn'\u001b[0m\u001b[1;33m]\u001b[0m\u001b[1;33m,\u001b[0m\u001b[1;34m's-'\u001b[0m\u001b[1;33m,\u001b[0m\u001b[0mxdate\u001b[0m \u001b[1;33m=\u001b[0m \u001b[1;32mTrue\u001b[0m\u001b[1;33m,\u001b[0m \u001b[0mydate\u001b[0m\u001b[1;33m=\u001b[0m\u001b[1;32mTrue\u001b[0m\u001b[1;33m,\u001b[0m\u001b[0mlabel\u001b[0m\u001b[1;33m=\u001b[0m\u001b[1;34m'EB1-China'\u001b[0m\u001b[1;33m)\u001b[0m\u001b[1;33m\u001b[0m\u001b[1;33m\u001b[0m\u001b[0m\n\u001b[0;32m      5\u001b[0m \u001b[0mplt\u001b[0m\u001b[1;33m.\u001b[0m\u001b[0mplot_date\u001b[0m\u001b[1;33m(\u001b[0m\u001b[0meb2_fa\u001b[0m\u001b[1;33m[\u001b[0m\u001b[1;34m'x'\u001b[0m\u001b[1;33m]\u001b[0m\u001b[1;33m,\u001b[0m\u001b[0meb2_fa\u001b[0m\u001b[1;33m[\u001b[0m\u001b[1;34m'cn'\u001b[0m\u001b[1;33m]\u001b[0m\u001b[1;33m,\u001b[0m\u001b[1;34m'o-'\u001b[0m\u001b[1;33m,\u001b[0m\u001b[0mxdate\u001b[0m \u001b[1;33m=\u001b[0m \u001b[1;32mTrue\u001b[0m\u001b[1;33m,\u001b[0m \u001b[0mydate\u001b[0m\u001b[1;33m=\u001b[0m\u001b[1;32mTrue\u001b[0m\u001b[1;33m,\u001b[0m\u001b[0mlabel\u001b[0m\u001b[1;33m=\u001b[0m\u001b[1;34m'EB2-China'\u001b[0m\u001b[1;33m)\u001b[0m\u001b[1;33m\u001b[0m\u001b[1;33m\u001b[0m\u001b[0m\n",
      "\u001b[1;31mNameError\u001b[0m: name 'eb1_fa' is not defined"
     ]
    },
    {
     "data": {
      "text/plain": [
       "<Figure size 864x432 with 0 Axes>"
      ]
     },
     "metadata": {},
     "output_type": "display_data"
    }
   ],
   "source": [
    "plt.figure(figsize=(12,6))\n",
    "\n",
    "plt.plot_date(eb1_fa['x'],eb1_fa['x'],':',xdate = True, ydate=True,label='current')\n",
    "plt.plot_date(eb1_fa['x'],eb1_fa['cn'],'s-',xdate = True, ydate=True,label='EB1-China')\n",
    "plt.plot_date(eb2_fa['x'],eb2_fa['cn'],'o-',xdate = True, ydate=True,label='EB2-China')\n",
    "plt.plot_date(eb3_fa['x'],eb3_fa['cn'],'d-',xdate = True, ydate=True,label='EB3-China')\n",
    "\n",
    "ylim = [datetime.date(1998,8,1),datetime.date(2021,2,1)]\n",
    "xlim = [datetime.date(2003,8,1),datetime.date(2020,2,1)]\n",
    "\n",
    "plt.ylim(ylim)\n",
    "plt.xlim(xlim)\n",
    "plt.grid('on')\n",
    "plt.legend()\n",
    "#plt.title('Estimation of Xiang''s time line')\n",
    "#plt.title('EB1 catastrophe. Table B')\n",
    "plt.title(f'China EB Final Action Date')\n",
    "\n",
    "#plt.plot_date([datetime.date(2017,5,30),datetime.date(2017,5,30)],ylim,'k:')\n",
    "#plt.plot_date(xlim,[datetime.date(2017,5,30),datetime.date(2017,5,30)],'k:')\n"
   ]
  },
  {
   "cell_type": "code",
   "execution_count": null,
   "metadata": {},
   "outputs": [],
   "source": []
  }
 ],
 "metadata": {
  "kernelspec": {
   "display_name": "Python 3",
   "language": "python",
   "name": "python3"
  },
  "language_info": {
   "codemirror_mode": {
    "name": "ipython",
    "version": 3
   },
   "file_extension": ".py",
   "mimetype": "text/x-python",
   "name": "python",
   "nbconvert_exporter": "python",
   "pygments_lexer": "ipython3",
   "version": "3.7.3"
  }
 },
 "nbformat": 4,
 "nbformat_minor": 2
}
